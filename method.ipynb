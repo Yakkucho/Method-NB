{
 "cells": [
  {
   "cell_type": "markdown",
   "id": "adb7f579",
   "metadata": {},
   "source": [
    "# BAB 5\n",
    "# PROGRAM MENGGUNAKAN METHOD"
   ]
  },
  {
   "cell_type": "markdown",
   "id": "2d55e635",
   "metadata": {},
   "source": [
    "***"
   ]
  },
  {
   "cell_type": "markdown",
   "id": "df6c243c",
   "metadata": {},
   "source": [
    "### RINGKASAN\n",
    "Fungsi (sering juga disebut function atau subroutine) adalah blok kode terorganisir yang dapat digunakan kembali untuk melakukan satu tindakan atau tugas tertentu. Fungsi membantu memecah program besar menjadi bagian-bagian yang lebih kecil dan lebih mudah dikelola.\n",
    "\n",
    "Dalam C++, sebuah fungsi memiliki:\n",
    "\n",
    "* Tipe Data Balik (Return Type): Tipe data dari nilai yang akan dikembalikan oleh fungsi (contoh: int, double, string, atau void jika tidak mengembalikan apa-apa).\n",
    "\n",
    "* Nama Fungsi: Pengenal unik untuk fungsi tersebut.\n",
    "\n",
    "* Parameter (Opsional): Variabel yang menerima nilai input saat fungsi dipanggil.\n",
    "\n",
    "* Badan Fungsi: Kumpulan pernyataan yang dieksekusi saat fungsi dipanggil, diapit oleh kurung kurawal {}.\n",
    "\n",
    "Sebelum fungsi dapat digunakan di dalam main(), ia harus dideklarasikan (disebut prototype) atau didefinisikan (ditulis implementasinya secara lengkap)."
   ]
  },
  {
   "cell_type": "markdown",
   "id": "8afc9101",
   "metadata": {},
   "source": [
    "***"
   ]
  },
  {
   "cell_type": "markdown",
   "id": "792e8a61",
   "metadata": {},
   "source": [
    "**Fungsi Void pada C++**"
   ]
  },
  {
   "cell_type": "markdown",
   "id": "d9723a2c",
   "metadata": {},
   "source": [
    "Fungsi void adalah fungsi yang tidak mengembalikan nilai apa pun. Fungsi ini digunakan ketika kita hanya ingin menjalankan serangkaian perintah, seperti mencetak sesuatu ke layar."
   ]
  },
  {
   "cell_type": "code",
   "execution_count": null,
   "id": "906f5a25",
   "metadata": {
    "vscode": {
     "languageId": "cpp"
    }
   },
   "outputs": [],
   "source": [
    "void namaFungsi(tipeData parameter1, tipeData parameter2) {\n",
    "    // Badan fungsi\n",
    "    // Pernyataan-pernyataan yang akan dieksekusi\n",
    "}"
   ]
  },
  {
   "cell_type": "markdown",
   "id": "b682d833",
   "metadata": {},
   "source": [
    "**Fungsi dengan Nilai Balik (Return Value) pada C++**"
   ]
  },
  {
   "cell_type": "markdown",
   "id": "6acf1836",
   "metadata": {},
   "source": [
    "Fungsi ini mengembalikan sebuah nilai ke bagian program yang memanggilnya menggunakan kata kunci return. Tipe data dari nilai yang dikembalikan harus sesuai dengan return type yang dideklarasikan."
   ]
  },
  {
   "cell_type": "code",
   "execution_count": null,
   "id": "ff6f8f5b",
   "metadata": {
    "vscode": {
     "languageId": "cpp"
    }
   },
   "outputs": [],
   "source": [
    "tipeDataBalik namaFungsi(tipeData parameter1) {\n",
    "    // Badan fungsi\n",
    "    tipeDataBalik hasil;\n",
    "    // ... proses ...\n",
    "    return hasil; // Mengembalikan nilai\n",
    "}"
   ]
  },
  {
   "cell_type": "markdown",
   "id": "522facab",
   "metadata": {},
   "source": [
    "**Mengirim Array sebagai Parameter Fungsi pada C++**"
   ]
  },
  {
   "cell_type": "markdown",
   "id": "d7d4aaa4",
   "metadata": {},
   "source": [
    "Saat mengirim array ke sebuah fungsi di C++, yang sebenarnya dikirim adalah alamat memori dari elemen pertama array tersebut (pointer). Karena itu, perubahan yang dilakukan pada array di dalam fungsi akan memengaruhi array aslinya.\n",
    "\n",
    "Karena array di C++ tidak membawa informasi ukurannya sendiri, kita umumnya juga mengirimkan ukuran array sebagai parameter tambahan."
   ]
  },
  {
   "cell_type": "code",
   "execution_count": null,
   "id": "8b170991",
   "metadata": {
    "vscode": {
     "languageId": "cpp"
    }
   },
   "outputs": [],
   "source": [
    "// Opsi 1: Menggunakan notasi array\n",
    "void namaFungsi(tipeData namaArray[], int ukuran) {\n",
    "    // Badan fungsi\n",
    "    // Contoh: mengakses elemen\n",
    "    // namaArray[0] = ...;\n",
    "}\n",
    "\n",
    "// Opsi 2: Menggunakan notasi pointer (identik dengan opsi 1)\n",
    "void namaFungsi(tipeData* namaArray, int ukuran) {\n",
    "    // Badan fungsi\n",
    "}"
   ]
  },
  {
   "cell_type": "markdown",
   "id": "bb6d2120",
   "metadata": {},
   "source": [
    "**Fungsi Rekursif pada C++**"
   ]
  },
  {
   "cell_type": "markdown",
   "id": "be3a2f7b",
   "metadata": {},
   "source": [
    "Fungsi rekursif adalah fungsi yang memanggil dirinya sendiri. Setiap fungsi rekursif harus memiliki dua bagian:\n",
    "\n",
    "* Base Case: Kondisi di mana fungsi berhenti memanggil dirinya sendiri untuk mencegah perulangan tak terbatas (infinite loop).\n",
    "\n",
    "* Recursive Call: Panggilan ke fungsi itu sendiri, biasanya dengan parameter yang telah dimodifikasi agar semakin mendekati base case.\n",
    "\n",
    "Contoh klasik adalah perhitungan faktorial."
   ]
  },
  {
   "cell_type": "code",
   "execution_count": null,
   "id": "8191a75a",
   "metadata": {
    "vscode": {
     "languageId": "cpp"
    }
   },
   "outputs": [],
   "source": [
    "int faktorial(int n) {\n",
    "    // Base Case\n",
    "    if (n <= 1) {\n",
    "        return 1;\n",
    "    }\n",
    "    // Recursive Call\n",
    "    else {\n",
    "        return n * faktorial(n - 1);\n",
    "    }\n",
    "}"
   ]
  },
  {
   "cell_type": "markdown",
   "id": "ff17f920",
   "metadata": {},
   "source": [
    "***"
   ]
  },
  {
   "cell_type": "markdown",
   "id": "9fefe7ce",
   "metadata": {},
   "source": [
    "**Contoh Void**"
   ]
  },
  {
   "cell_type": "code",
   "execution_count": null,
   "id": "f251c81a",
   "metadata": {
    "vscode": {
     "languageId": "cpp"
    }
   },
   "outputs": [],
   "source": [
    "#include <iostream>\n",
    "#include <string>\n",
    "\n",
    "using namespace std;\n",
    "\n",
    "// Definisi fungsi void\n",
    "void sapa(string nama) {\n",
    "    cout << \"Halo, \" << nama << \"! Selamat datang di Praktikum Pemrograman Dasar.\" << endl;\n",
    "}\n",
    "\n",
    "int main() {\n",
    "    // Memanggil fungsi void\n",
    "    sapa(\"Budi\");\n",
    "    sapa(\"Ani\");\n",
    "    return 0;\n",
    "}"
   ]
  },
  {
   "cell_type": "markdown",
   "id": "dbb8ba72",
   "metadata": {},
   "source": [
    "**Contoh Return**"
   ]
  },
  {
   "cell_type": "code",
   "execution_count": null,
   "id": "9093f6ee",
   "metadata": {
    "vscode": {
     "languageId": "cpp"
    }
   },
   "outputs": [],
   "source": [
    "#include <iostream>\n",
    "\n",
    "using namespace std;\n",
    "\n",
    "// Definisi fungsi dengan nilai balik\n",
    "int hitungLuas(int panjang, int lebar) {\n",
    "    int luas = panjang * lebar;\n",
    "    return luas;\n",
    "}\n",
    "\n",
    "int main() {\n",
    "    int p = 10;\n",
    "    int l = 5;\n",
    "    \n",
    "    // Memanggil fungsi dan menyimpan hasilnya ke variabel\n",
    "    int hasilLuas = hitungLuas(p, l);\n",
    "    \n",
    "    cout << \"Panjang: \" << p << endl;\n",
    "    cout << \"Lebar: \" << l << endl;\n",
    "    cout << \"Luas Persegi Panjang: \" << hasilLuas << endl;\n",
    "    \n",
    "    // Bisa juga dipanggil langsung di dalam cout\n",
    "    cout << \"Luas lainnya (8x3): \" << hitungLuas(8, 3) << endl;\n",
    "    \n",
    "    return 0;\n",
    "}"
   ]
  },
  {
   "cell_type": "markdown",
   "id": "1d449f71",
   "metadata": {},
   "source": [
    "**Contoh Return Array**"
   ]
  },
  {
   "cell_type": "code",
   "execution_count": null,
   "id": "9d500387",
   "metadata": {
    "vscode": {
     "languageId": "cpp"
    }
   },
   "outputs": [],
   "source": [
    "#include <iostream>\n",
    "\n",
    "using namespace std;\n",
    "\n",
    "// Definisi fungsi dengan parameter array\n",
    "// Perhatikan parameter 'ukuran' untuk mengetahui besar array\n",
    "int hitungTotalArray(int arr[], int ukuran) {\n",
    "    int total = 0;\n",
    "    for (int i = 0; i < ukuran; i++) {\n",
    "        total += arr[i];\n",
    "    }\n",
    "    return total;\n",
    "}\n",
    "\n",
    "int main() {\n",
    "    int nilai[] = {10, 20, 30, 40, 50};\n",
    "    // Hitung ukuran array\n",
    "    int ukuranArray = sizeof(nilai) / sizeof(nilai[0]);\n",
    "    \n",
    "    // Memanggil fungsi\n",
    "    int totalNilai = hitungTotalArray(nilai, ukuranArray);\n",
    "    \n",
    "    cout << \"Isi array: \";\n",
    "    for (int i = 0; i < ukuranArray; i++) {\n",
    "        cout << nilai[i] << \" \";\n",
    "    }\n",
    "    cout << endl;\n",
    "    cout << \"Total semua nilai dalam array: \" << totalNilai << endl;\n",
    "    \n",
    "    return 0;\n",
    "}"
   ]
  },
  {
   "cell_type": "markdown",
   "id": "2739e0cc",
   "metadata": {},
   "source": [
    "**Contoh Rekursif**"
   ]
  },
  {
   "cell_type": "code",
   "execution_count": null,
   "id": "b55fa1ec",
   "metadata": {
    "vscode": {
     "languageId": "cpp"
    }
   },
   "outputs": [],
   "source": [
    "#include <iostream>\n",
    "\n",
    "using namespace std;\n",
    "\n",
    "// Definisi fungsi rekursif\n",
    "long long faktorial(int n) {\n",
    "    // Base Case\n",
    "    if (n <= 1) {\n",
    "        cout << \"n=\" << n << \", return 1\" << endl;\n",
    "        return 1;\n",
    "    }\n",
    "    // Recursive Call\n",
    "    else {\n",
    "        cout << \"n=\" << n << \", panggil faktorial(\" << n - 1 << \")\" << endl;\n",
    "        return n * faktorial(n - 1);\n",
    "    }\n",
    "}\n",
    "\n",
    "int main() {\n",
    "    int angka;\n",
    "    cout << \"Masukkan angka untuk dihitung faktorialnya: \";\n",
    "    cin >> angka;\n",
    "    \n",
    "    long long hasil = faktorial(angka);\n",
    "    \n",
    "    cout << \"Hasil \" << angka << \"! = \" << hasil << endl;\n",
    "    \n",
    "    return 0;\n",
    "}"
   ]
  }
 ],
 "metadata": {
  "kernelspec": {
   "display_name": "Python 3",
   "language": "python",
   "name": "python3"
  },
  "language_info": {
   "name": "python",
   "version": "3.13.7"
  }
 },
 "nbformat": 4,
 "nbformat_minor": 5
}
